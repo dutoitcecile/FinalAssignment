{
 "cells": [
  {
   "cell_type": "markdown",
   "id": "c6734ce4-5fb8-4172-a1cb-e84c68d9dfc8",
   "metadata": {},
   "source": [
    "#  Data Science Tools and Ecosystem"
   ]
  },
  {
   "cell_type": "markdown",
   "id": "5380751a-8514-44a3-a9cb-90f747800338",
   "metadata": {},
   "source": [
    "In this notebook, Data Science Tools and Ecosystem are summarized."
   ]
  },
  {
   "cell_type": "markdown",
   "id": "34997925-f84e-4b97-8ed3-3b0a64ea7103",
   "metadata": {},
   "source": [
    "** Objectives **\n",
    "*  List of popular languages for Data Science\n",
    "*  Commonly used Data Science libraries\n",
    "*  Data Science Tools\n",
    "*  Some examples of arithmetic expressions"
   ]
  },
  {
   "cell_type": "markdown",
   "id": "71c0e469-cdcb-4ba3-8266-085a50811146",
   "metadata": {},
   "source": [
    "Some of the popular languages that Data Scientists use are:\n",
    "1.  Python\n",
    "2.  R\n",
    "3.  Scala"
   ]
  },
  {
   "cell_type": "markdown",
   "id": "5cae63ed-acbb-401b-ab29-8506cfe0ce2c",
   "metadata": {},
   "source": [
    "Some of the commonly used libraries used by Data Scientists include:\n",
    "1.  Pandas\n",
    "2.  Seaborn\n",
    "3.  Scikit-learn"
   ]
  },
  {
   "cell_type": "code",
   "execution_count": null,
   "id": "0972d657-c86d-4c25-9cae-d28a531ff8c4",
   "metadata": {},
   "outputs": [],
   "source": [
    "|Data Science Tools|\n",
    "|------------------|\n",
    "|Junyper Notebooks|\n",
    "|RStudio|\n",
    "|Google Colab|"
   ]
  },
  {
   "cell_type": "markdown",
   "id": "2aa09ebe-1b40-4bb8-841f-e846185d31e4",
   "metadata": {},
   "source": [
    "### Below are a few examples of evaluating arithmetic expressions in Python"
   ]
  },
  {
   "cell_type": "code",
   "execution_count": 10,
   "id": "870f3ffa-5e97-4420-a257-6602a674fe00",
   "metadata": {},
   "outputs": [
    {
     "data": {
      "text/plain": [
       "17"
      ]
     },
     "execution_count": 10,
     "metadata": {},
     "output_type": "execute_result"
    }
   ],
   "source": [
    "#  This a simple arithmetic expression to mutiply then add integers\n",
    "(3*4)+5"
   ]
  },
  {
   "cell_type": "code",
   "execution_count": 12,
   "id": "2c42b1a8-9d3d-43f8-b25c-672bd13526e8",
   "metadata": {},
   "outputs": [
    {
     "data": {
      "text/plain": [
       "3.3333333333333335"
      ]
     },
     "execution_count": 12,
     "metadata": {},
     "output_type": "execute_result"
    }
   ],
   "source": [
    "#  This will convert 200 minutes to hours by diving by 60\n",
    "200/60"
   ]
  },
  {
   "cell_type": "markdown",
   "id": "fe02c1df-105c-4861-b45b-34fad3af0507",
   "metadata": {},
   "source": [
    "## Author\n",
    "Cecile du Toit"
   ]
  }
 ],
 "metadata": {
  "kernelspec": {
   "display_name": "anaconda-2022.05-py39",
   "language": "python",
   "name": "conda-env-anaconda-2022.05-py39-py"
  },
  "language_info": {
   "codemirror_mode": {
    "name": "ipython",
    "version": 3
   },
   "file_extension": ".py",
   "mimetype": "text/x-python",
   "name": "python",
   "nbconvert_exporter": "python",
   "pygments_lexer": "ipython3",
   "version": "3.9.12"
  }
 },
 "nbformat": 4,
 "nbformat_minor": 5
}
